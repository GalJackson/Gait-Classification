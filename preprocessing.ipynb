{
 "cells": [
  {
   "cell_type": "markdown",
   "id": "eb420701",
   "metadata": {},
   "source": [
    "# Preprocessing\n"
   ]
  },
  {
   "cell_type": "code",
   "execution_count": 12,
   "id": "58adf376-b36f-4d84-80af-ce1edef01960",
   "metadata": {},
   "outputs": [],
   "source": [
    "import os\n",
    "import pandas as pd\n",
    "import numpy as np\n",
    "import matplotlib.pyplot as plt\n",
    "from scipy.signal import butter, filtfilt, savgol_filter, find_peaks\n",
    "from scipy.spatial import distance\n",
    "import tkinter\n",
    "from tkinter import filedialog\n"
   ]
  },
  {
   "cell_type": "markdown",
   "id": "0e774e97",
   "metadata": {},
   "source": [
    "## Helper Functions\n",
    "### Initial Preprocessing\n",
    "\n",
    "Extract direction of walk:"
   ]
  },
  {
   "cell_type": "code",
   "execution_count": 2,
   "id": "9875000b",
   "metadata": {},
   "outputs": [],
   "source": [
    "def extract_walk_direction(filename):\n",
    "    # extract direction of the walk \n",
    "    if \"back\" in filename:\n",
    "        direction = \"back\"\n",
    "    elif \"front\" in filename:\n",
    "        direction = \"front\"\n",
    "    else:\n",
    "        raise ValueError(\"File path must contain either 'back' or 'front' to determine the direction of the walk\")\n",
    "    \n",
    "    return direction"
   ]
  },
  {
   "cell_type": "markdown",
   "metadata": {},
   "source": [
    "Remove unneeded features:"
   ]
  },
  {
   "cell_type": "code",
   "execution_count": 3,
   "id": "a2452dda",
   "metadata": {},
   "outputs": [],
   "source": [
    "def filter_columns(df):\n",
    "\tkeypoints = [\"RAnkle\", \"LAnkle\", \"RKnee\", \"LKnee\", \"RHip\", \"LHip\"]\n",
    "\n",
    "\tcolumns = [f\"{kp}_x\" for kp in keypoints] + [f\"{kp}_y\" for kp in keypoints]\n",
    "\n",
    "\treturn df.loc[:, df.columns.isin(columns)]"
   ]
  },
  {
   "cell_type": "markdown",
   "id": "d94adf37",
   "metadata": {},
   "source": [
    "Smooth using a moving average or using a Savitzky-Golay filter \n"
   ]
  },
  {
   "cell_type": "code",
   "execution_count": 4,
   "id": "171ea7bd",
   "metadata": {},
   "outputs": [],
   "source": [
    "def smoothing(data, filter):\n",
    "    window = 5\n",
    "\n",
    "    if filter == \"average\": \n",
    "        smooth = data.rolling(window=window).mean()\n",
    "        smooth = smooth.fillna(data).tolist()\n",
    "    elif filter == \"savgol\":\n",
    "        order = 2\n",
    "        smooth = savgol_filter(data, window, order, deriv=1, delta=df.time[1]-df.time[0])\n",
    "\n",
    "    return smooth"
   ]
  },
  {
   "cell_type": "markdown",
   "id": "b2293c52",
   "metadata": {},
   "source": [
    "Butterworth filter\n"
   ]
  },
  {
   "cell_type": "code",
   "execution_count": 5,
   "id": "a1b14772",
   "metadata": {},
   "outputs": [],
   "source": [
    "def butterworth_filter(data):\n",
    "    \"\"\"\n",
    "    Use Butterworth filtering to reduce high-frequency noise\n",
    "    \"\"\"\n",
    "\n",
    "    fs = 30  # Sampling frequency in Hz\n",
    "    cutoff = 4  # Cutoff frequency in Hz\n",
    "    order = 2  \n",
    "    btype = \"lowpass\" \n",
    "\n",
    "    b, a = butter(order, cutoff / (0.5 * fs), btype=btype)\n",
    "    buttered = filtfilt(b, a, data)\n",
    "\n",
    "    return buttered"
   ]
  },
  {
   "cell_type": "markdown",
   "id": "123ab6cb",
   "metadata": {},
   "source": [
    "Initial Preprocessing - full process"
   ]
  },
  {
   "cell_type": "code",
   "execution_count": 6,
   "id": "ad0d07e6",
   "metadata": {},
   "outputs": [],
   "source": [
    "def initial_preprocessing(df, filter=\"average\"):\n",
    "    # remove unused columns\n",
    "    new_df = filter_columns(df)\n",
    "    \n",
    "    # smooth the coordinates\n",
    "    new_df = df.apply(lambda column: smoothing(column, filter=filter))\n",
    "\n",
    "    # use butterworth fukter\n",
    "    new_df = df.apply(lambda column: butterworth_filter(column))\n",
    "\n",
    "    return new_df"
   ]
  },
  {
   "cell_type": "markdown",
   "id": "4836de33",
   "metadata": {},
   "source": [
    "### Gait Variable Preprocessing"
   ]
  },
  {
   "cell_type": "markdown",
   "id": "deca866f",
   "metadata": {},
   "source": [
    "Detect the moments of heel strike and toe off for a single leg:"
   ]
  },
  {
   "cell_type": "code",
   "execution_count": 7,
   "id": "35b262b5",
   "metadata": {},
   "outputs": [],
   "source": [
    "def detect_steps(data, direction=''):\n",
    "    \"\"\"\n",
    "    data: time series of the y-pixel of the ankle\n",
    "    direction: front or back\n",
    "\n",
    "    returns:\n",
    "        heel_strikes: the indexes of when the heel first touches the ground \n",
    "    \"\"\"\n",
    "\n",
    "    dist = 20 # minimum distance between two detected steps taken on a single leg\n",
    "\n",
    "    if not direction:\n",
    "        direction = input(\"Choose walk direction: 'front' or 'back'?\")\n",
    "\n",
    "    # find peaks in the derivative of the y-coord of the ankle\n",
    "    deriv  = np.gradient(data)\n",
    "    if direction == 'front':\n",
    "        peaks, _ = find_peaks(deriv, distance=dist)\n",
    "    elif direction == 'back':\n",
    "        peaks, _ = find_peaks(-deriv, distance=dist)\n",
    "\n",
    "    # detect heel-strikes and toe-offs\n",
    "    heel_strikes = []\n",
    "    toe_offs = []\n",
    "    for peak in peaks:\n",
    "        peak_height = deriv[peak]\n",
    "        heel_threshold = 0.35 * abs(peak_height) # heel strike occurs after each peak of the derivative, once the 35% of peak height is crossed\n",
    "        toe_threshold = 0.3 * abs(peak_height) # toe-off occurs before each peak of the derivative, once the 30% of peak height is crossed\n",
    "\n",
    "        # heel strikes\n",
    "        for i in range(peak + 1, len(deriv)):\n",
    "            if abs(deriv[i]) <= heel_threshold:\n",
    "                heel_strikes.append(i)\n",
    "                break\n",
    "            \n",
    "        # toe-offs\n",
    "        for i in range(peak - 1, -1, -1):\n",
    "            if abs(deriv[i]) <= toe_threshold:\n",
    "                toe_offs.append(i)\n",
    "                break\n",
    "\n",
    "    return heel_strikes, toe_offs"
   ]
  },
  {
   "cell_type": "markdown",
   "id": "6be2aac9",
   "metadata": {},
   "source": [
    "Generating binary time series - 0 for when foot is in the air, 1 for when foot is on the floor: "
   ]
  },
  {
   "cell_type": "code",
   "execution_count": 8,
   "id": "311fde7c",
   "metadata": {},
   "outputs": [],
   "source": [
    "def foot_on_floor(Heels, Toes, total_frames):\n",
    "    \"\"\"\n",
    "    Create a series of 0s and 1s indicating if the foot is (1) or isn't (0) on the floor.\n",
    "    \n",
    "    Heels (list): List of indexes where the heel-strike occurs.\n",
    "    Toes (list): List of indexes where the toe-off occurs.\n",
    "    total_frames (int): Total number of frames in the video.\n",
    "\n",
    "    \"\"\"\n",
    "\n",
    "    foot_on_floor = [0] * total_frames\n",
    "\n",
    "    # handle case where video starts mid-step (no initial heel strike)\n",
    "    if Toes[0] < Heels[0]:\n",
    "        for i in range(0, Toes[0] + 1):  # foot on floor from first frame until first toe-off\n",
    "            foot_on_floor[i] = 1\n",
    "\n",
    "    # handle case where video ends mid-step (no final toe-off)\n",
    "    if Heels[-1] > Toes[-1]:\n",
    "        for i in range(Heels[-1], total_frames):  # foot stays on floor until last frame\n",
    "            foot_on_floor[i] = 1\n",
    "    \n",
    "    # handle all other regular cases\n",
    "    for heel, toe in zip(Heels, Toes):\n",
    "        for i in range(heel, toe+1):  # +1 to include the toe-off frame\n",
    "            foot_on_floor[i] = 1\n",
    "    \n",
    "    return foot_on_floor\n"
   ]
  },
  {
   "cell_type": "markdown",
   "id": "9d051495",
   "metadata": {},
   "source": [
    "#### Finding the average step width\n",
    "This is calculated by finding the euclidean distance between the ankle joints for each frame, then dividing it by the euclidean distance of the two hip keypoints "
   ]
  },
  {
   "cell_type": "code",
   "execution_count": 9,
   "id": "571fc4c2",
   "metadata": {},
   "outputs": [],
   "source": [
    "def get_step_width_distances(row):\n",
    "    \"\"\"\n",
    "    Return the distances between left and right ankle, and left and right hips per frame\n",
    "    \"\"\"\n",
    "\n",
    "    ankles = distance.euclidean(row[[\"RAnkle_x\", \"RAnkle_y\"]], row[[\"LAnkle_x\", \"LAnkle_y\"]])\n",
    "    hips = distance.euclidean(row[[\"LHip_x\", \"LHip_y\"]], row[[\"RHip_x\", \"RHip_y\"]])\n",
    "\n",
    "    return pd.Series([ankles, hips])\n",
    "\n",
    "def get_step_width(df):\n",
    "    \"\"\"\n",
    "    Returns the distance between the two ankles, normalised by the width of the hip\n",
    "    \"\"\"\n",
    "    \n",
    "    df[['ankle_distances', 'hip_distances']] = df.apply(get_step_width_distances, axis=1)\n",
    "    return df['ankle_distances'] / df['hip_distances']\n"
   ]
  },
  {
   "cell_type": "markdown",
   "id": "134fadb0",
   "metadata": {},
   "source": [
    "#### Finding margin of stability (MOS)\n",
    "\n",
    "The following systematic review gives a good overview of how this is calculated: https://doi.org/10.1186%2Fs12891-021-04466-4"
   ]
  },
  {
   "cell_type": "code",
   "execution_count": 10,
   "id": "fe9071d3",
   "metadata": {},
   "outputs": [],
   "source": [
    "def find_MOS(df, RHeels, LHeels, direction):\n",
    "    # estimated center of mass (eCOM) - the middle point between the two hip keypoints\n",
    "    if direction == \"back\":\n",
    "        df[\"eCOM_x\"] = ((df['RHip_x'] - df['LHip_x']) / 2) + df[\"LHip_x\"]\n",
    "    elif direction == \"front\":\n",
    "        df[\"eCOM_x\"] = ((df['LHip_x'] - df['RHip_x']) / 2) + df[\"RHip_x\"]\n",
    "\n",
    "    # Find the hip width in each frame in order to normalise the leg lengths \n",
    "    df[\"Hip_width\"] = abs(df['LHip_x'] - df['RHip_x'])\n",
    "\n",
    "    # Find leg length in each frame where a heel strike occurs\n",
    "    # Right leg\n",
    "    df_RHeels = df.loc[RHeels]\n",
    "    df_RHeels[\"LegLen\"] = df_RHeels.apply(lambda row: np.sqrt((row['RHip_y'] - row['RAnkle_y'])**2 + (row['RHip_x'] - row['RAnkle_x'])**2) / row['Hip_width'], axis=1)\n",
    "\n",
    "    # Left leg\n",
    "    df_LHeels = df.loc[LHeels]\n",
    "    df_LHeels[\"LegLen\"] = df_LHeels.apply(lambda row: np.sqrt((row['LHip_y'] - row['LAnkle_y'])**2 + (row['LHip_x'] - row['LAnkle_x'])**2) / row['Hip_width'], axis=1)\n",
    "\n",
    "    # Average leg length \n",
    "    meanLegLen = np.mean(df_RHeels.LegLen.tolist() + df_LHeels.LegLen.tolist())\n",
    "\n",
    "    # Finding the extrapolated center of mass (XCOM)\n",
    "    omega = np.sqrt(9.81/meanLegLen); # the natural frequency of the pendulum-like leg\n",
    "    vCOM = np.gradient(df.eCOM_x)\n",
    "\n",
    "    XCOM = df.eCOM_x + (vCOM/omega)\n",
    "\n",
    "\n",
    "    # Calculating the estimated margin of stability (eMOS) in the mediolateral direction\n",
    "\n",
    "    # first, finding the x-axis pixel difference from the XCOM to the right and left ankle, normalised by the hip width\n",
    "    if direction == \"front\":\n",
    "        RMOS0 =  (-XCOM + df.RAnkle_x)/df.Hip_width; \n",
    "        LMOS0 =  (-XCOM + df.LAnkle_x)/df.Hip_width;\n",
    "    elif direction == \"back\":\n",
    "        RMOS0 =  (XCOM - df.RAnkle_x)/df.Hip_width; \n",
    "        LMOS0 =  (XCOM - df.LAnkle_x)/df.Hip_width;\n",
    "\n",
    "    # as explained in the paper https://www.ncbi.nlm.nih.gov/pmc/articles/PMC8240253/#CR7, the code above is the calcualtion equivalent to the formula\n",
    "    # MOS = -XCOM + BOS\n",
    "    # Where the BOS is the base of support. When walking, the base of support switches from the left to the right and vice versa on each step.\n",
    "    # Hence, the RMOS may only exist from the moment the right heel strikes, until the following left heel strike, and vice versa:\n",
    "\n",
    "    df[\"MOS\"] = np.nan\n",
    "\n",
    "    # NOTE: all left leg MOS values have been multiplied by -1 in order for the MOS to signify the same type of instability, regardless of what leg is being stood on. \n",
    "    # This is set up such that a large +ve value indicates instability in the lateral direction, and a large -ve value indicates instability in the medial direction.\n",
    "\n",
    "    if min(RHeels) < min(LHeels):\n",
    "        for j in range(0, min(RHeels)):\n",
    "            df['MOS'].iloc[j] = LMOS0[j] * -1\n",
    "    else:\n",
    "        for j in range(0, min(LHeels)):\n",
    "            df['MOS'].iloc[j] = RMOS0[j]\n",
    "\n",
    "\n",
    "    # Loop through each full right step for RMOS\n",
    "    for i, HeelLoc in enumerate(RHeels):\n",
    "        # find at which video frame the next left heel strike is occuring, unless the video ends before the next strike\n",
    "        try:\n",
    "            endLoc = LHeels[i] if LHeels[i] > HeelLoc else LHeels[i+1]\n",
    "        except IndexError:\n",
    "            endLoc = df.index[-1]\n",
    "\n",
    "        # add the values between the heel strike and the following opposing leg heel strike to the MOS\n",
    "        for j in range(HeelLoc, endLoc + 1):\n",
    "            df['MOS'].iloc[j] = RMOS0[j]\n",
    "\n",
    "\n",
    "    # Loop through each full right step for RMOS\n",
    "    for i, HeelLoc in enumerate(LHeels):\n",
    "        # find at which video frame the next right heel strike is occuring, unless the video ends before the next strike\n",
    "        try:\n",
    "            endLoc = RHeels[i] if RHeels[i] > HeelLoc else RHeels[i+1]\n",
    "        except IndexError:\n",
    "            endLoc = df.index[-1]\n",
    "        \n",
    "        # add the values between the heel strike and the following opposing leg heel strike to the MOS\n",
    "        for j in range(HeelLoc, endLoc + 1):\n",
    "            df['MOS'].iloc[j] = LMOS0[j] * -1\n",
    "            \n",
    "    \n",
    "    if df[\"MOS\"].isna().any():\n",
    "        raise ValueError(f\"MOS contains NaNs.\")\n",
    "    \n",
    "    return df.MOS\n"
   ]
  },
  {
   "cell_type": "code",
   "execution_count": 11,
   "id": "51927670",
   "metadata": {},
   "outputs": [],
   "source": [
    "def gait_variable_preprocessing(df, direction):\n",
    "    # find heel strikes and toe offs of each leg\n",
    "    RHeels, RToes = detect_steps(df.RAnkle, direction=direction)\n",
    "    LHeels, LToes = detect_steps(df.LAnkle, direction=direction)\n",
    "\n",
    "    # generate binary time series to descripe when each foot is placed on the floor\n",
    "    df[\"RAnkle_onfloor\"] = foot_on_floor(RHeels, RToes, len(df))\n",
    "    df[\"LAnkle_onfloor\"] = foot_on_floor(LHeels, LToes, len(df))\n",
    "\n",
    "    # calculate step width per frame\n",
    "    df[\"step_width\"] = get_step_width(df)\n",
    "\n",
    "    # calculate the margin of stability (MOS)\n",
    "    df[\"MOS\"] = find_MOS(df, RHeels, LHeels, direction=direction)\n",
    "\n",
    "    return df"
   ]
  },
  {
   "cell_type": "markdown",
   "id": "9ee393c8",
   "metadata": {},
   "source": [
    "## Normalisation"
   ]
  },
  {
   "cell_type": "code",
   "execution_count": null,
   "id": "ad2f0231",
   "metadata": {},
   "outputs": [],
   "source": [
    "def normalise_keypoints(df):\n",
    "    keypoints = [\"RAnkle\", \"LAnkle\", \"RKnee\", \"LKnee\", \"RHip\", \"LHip\"]\n",
    "\n",
    "    # look for the max and min value of the x and y axes in order to normalise to that scale\n",
    "\n",
    "    "
   ]
  },
  {
   "cell_type": "markdown",
   "id": "799f5dcb",
   "metadata": {},
   "source": [
    "## Batch Preprocessing\n",
    "\n",
    "Run this section to preprocess an entire directory of CSV files at a time.\n",
    "\n",
    "Load input file directory:"
   ]
  },
  {
   "cell_type": "code",
   "execution_count": null,
   "id": "fabe2598",
   "metadata": {},
   "outputs": [],
   "source": [
    "tkinter.Tk().withdraw() # prevents an empty tkinter window from appearing\n",
    "dir_path = filedialog.askdirectory()"
   ]
  },
  {
   "cell_type": "code",
   "execution_count": null,
   "id": "0c70efe9",
   "metadata": {},
   "outputs": [],
   "source": [
    "# all CSV files in the parent directory\n",
    "csv_files = [f for f in os.listdir(dir_path) if f.endswith('.csv')]"
   ]
  }
 ],
 "metadata": {
  "kernelspec": {
   "display_name": "Python 3 (ipykernel)",
   "language": "python",
   "name": "python3"
  },
  "language_info": {
   "codemirror_mode": {
    "name": "ipython",
    "version": 3
   },
   "file_extension": ".py",
   "mimetype": "text/x-python",
   "name": "python",
   "nbconvert_exporter": "python",
   "pygments_lexer": "ipython3",
   "version": "3.10.13"
  }
 },
 "nbformat": 4,
 "nbformat_minor": 5
}
